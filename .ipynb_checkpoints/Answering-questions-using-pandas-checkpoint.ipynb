{
 "cells": [
  {
   "cell_type": "markdown",
   "id": "413ef448",
   "metadata": {},
   "source": [
    "# Finding answers using pandas. SF Salaries Dataset from Kaggle\n",
    "\n",
    "[kaggle](https://www.kaggle.com/kaggle/sf-salaries, 'Data source')"
   ]
  },
  {
   "cell_type": "code",
   "execution_count": null,
   "id": "c69cff46",
   "metadata": {},
   "outputs": [],
   "source": [
    "import pandas as pd"
   ]
  }
 ],
 "metadata": {
  "kernelspec": {
   "display_name": "Python 3 (ipykernel)",
   "language": "python",
   "name": "python3"
  },
  "language_info": {
   "codemirror_mode": {
    "name": "ipython",
    "version": 3
   },
   "file_extension": ".py",
   "mimetype": "text/x-python",
   "name": "python",
   "nbconvert_exporter": "python",
   "pygments_lexer": "ipython3",
   "version": "3.9.7"
  }
 },
 "nbformat": 4,
 "nbformat_minor": 5
}
