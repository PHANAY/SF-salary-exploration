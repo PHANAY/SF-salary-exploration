{
 "cells": [
  {
   "cell_type": "markdown",
   "id": "413ef448",
   "metadata": {},
   "source": [
    "# Finding answers using pandas. SF Salaries Dataset from Kaggle\n",
    "\n",
    "[kaggle](https://www.kaggle.com/kaggle/sf-salaries, 'Data source')"
   ]
  },
  {
   "cell_type": "code",
   "execution_count": 1,
   "id": "c69cff46",
   "metadata": {},
   "outputs": [],
   "source": [
    "import pandas as pd"
   ]
  },
  {
   "cell_type": "code",
   "execution_count": 5,
   "id": "f3efa0b4",
   "metadata": {},
   "outputs": [
    {
     "name": "stdout",
     "output_type": "stream",
     "text": [
      "<class 'pandas.core.frame.DataFrame'>\n",
      "RangeIndex: 148654 entries, 0 to 148653\n",
      "Data columns (total 13 columns):\n",
      " #   Column            Non-Null Count   Dtype  \n",
      "---  ------            --------------   -----  \n",
      " 0   Id                148654 non-null  int64  \n",
      " 1   EmployeeName      148654 non-null  object \n",
      " 2   JobTitle          148654 non-null  object \n",
      " 3   BasePay           148045 non-null  float64\n",
      " 4   OvertimePay       148650 non-null  float64\n",
      " 5   OtherPay          148650 non-null  float64\n",
      " 6   Benefits          112491 non-null  float64\n",
      " 7   TotalPay          148654 non-null  float64\n",
      " 8   TotalPayBenefits  148654 non-null  float64\n",
      " 9   Year              148654 non-null  int64  \n",
      " 10  Notes             0 non-null       float64\n",
      " 11  Agency            148654 non-null  object \n",
      " 12  Status            0 non-null       float64\n",
      "dtypes: float64(8), int64(2), object(3)\n",
      "memory usage: 14.7+ MB\n"
     ]
    }
   ],
   "source": [
    "sal = pd.read_csv('salaries.csv')\n",
    "sal.info()"
   ]
  },
  {
   "cell_type": "markdown",
   "id": "ba2d6c4e",
   "metadata": {},
   "source": [
    "highest amount of OvertimePay"
   ]
  },
  {
   "cell_type": "code",
   "execution_count": 6,
   "id": "a3df8092",
   "metadata": {},
   "outputs": [
    {
     "data": {
      "text/plain": [
       "245131.88"
      ]
     },
     "execution_count": 6,
     "metadata": {},
     "output_type": "execute_result"
    }
   ],
   "source": [
    "sal['OvertimePay'].max()"
   ]
  },
  {
   "cell_type": "markdown",
   "id": "220e0929",
   "metadata": {},
   "source": [
    "Name of the lowest paid person including benefits"
   ]
  },
  {
   "cell_type": "code",
   "execution_count": 8,
   "id": "1b5c7c57",
   "metadata": {},
   "outputs": [
    {
     "data": {
      "text/plain": [
       "148653    Joe Lopez\n",
       "Name: EmployeeName, dtype: object"
      ]
     },
     "execution_count": 8,
     "metadata": {},
     "output_type": "execute_result"
    }
   ],
   "source": [
    "sal[sal['TotalPayBenefits']==sal['TotalPayBenefits'].min()]['EmployeeName']"
   ]
  },
  {
   "cell_type": "markdown",
   "id": "a93b9ce7",
   "metadata": {},
   "source": [
    "Avarage BasePay of all employees per year"
   ]
  },
  {
   "cell_type": "code",
   "execution_count": 13,
   "id": "211d67cb",
   "metadata": {},
   "outputs": [
    {
     "data": {
      "text/plain": [
       "Year\n",
       "2011    63595.956517\n",
       "2012    65436.406857\n",
       "2013    69630.030216\n",
       "2014    66564.421924\n",
       "Name: BasePay, dtype: float64"
      ]
     },
     "execution_count": 13,
     "metadata": {},
     "output_type": "execute_result"
    }
   ],
   "source": [
    "sal.groupby('Year').mean()['BasePay']"
   ]
  },
  {
   "cell_type": "markdown",
   "id": "e903a803",
   "metadata": {},
   "source": [
    "bottom 5 least common jobs"
   ]
  },
  {
   "cell_type": "code",
   "execution_count": 17,
   "id": "d0059eac",
   "metadata": {},
   "outputs": [
    {
     "data": {
      "text/plain": [
       "CHIEF HOUSING INSPECTOR                           1\n",
       "TRAFFIC SIGNAL OPERATOR                           1\n",
       "COURT COMPUTER FACILITIES COORDINATOR             1\n",
       "AUTOMOTIVE BODY AND FENDER WORKER SUPERVISOR I    1\n",
       "VICTIM & WITNESS TECHNICIAN                       1\n",
       "Name: JobTitle, dtype: int64"
      ]
     },
     "execution_count": 17,
     "metadata": {},
     "output_type": "execute_result"
    }
   ],
   "source": [
    "sal['JobTitle'].value_counts().tail(5)"
   ]
  },
  {
   "cell_type": "markdown",
   "id": "935d19be",
   "metadata": {},
   "source": [
    "jobtitle represented by atleast 10 people in 2014"
   ]
  },
  {
   "cell_type": "code",
   "execution_count": 22,
   "id": "47452635",
   "metadata": {},
   "outputs": [
    {
     "data": {
      "text/plain": [
       "468"
      ]
     },
     "execution_count": 22,
     "metadata": {},
     "output_type": "execute_result"
    }
   ],
   "source": [
    "sum(sal[sal['Year']==2014]['JobTitle'].value_counts()>=10)"
   ]
  },
  {
   "cell_type": "code",
   "execution_count": null,
   "id": "016b3771",
   "metadata": {},
   "outputs": [],
   "source": []
  }
 ],
 "metadata": {
  "kernelspec": {
   "display_name": "Python 3 (ipykernel)",
   "language": "python",
   "name": "python3"
  },
  "language_info": {
   "codemirror_mode": {
    "name": "ipython",
    "version": 3
   },
   "file_extension": ".py",
   "mimetype": "text/x-python",
   "name": "python",
   "nbconvert_exporter": "python",
   "pygments_lexer": "ipython3",
   "version": "3.9.7"
  }
 },
 "nbformat": 4,
 "nbformat_minor": 5
}
